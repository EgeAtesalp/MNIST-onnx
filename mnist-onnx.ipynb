{
 "cells": [
  {
   "cell_type": "code",
   "execution_count": 1,
   "metadata": {},
   "outputs": [],
   "source": [
    "import io\n",
    "import numpy as np\n",
    "import torchvision\n",
    "\n",
    "from torch import nn\n",
    "import torch.utils.model_zoo as model_zoo\n",
    "import torch.onnx\n",
    "import torch.nn as nn\n",
    "import torch.nn.init as init\n",
    "import onnx\n",
    "import onnxruntime\n",
    "import torch.nn.functional as F\n",
    "import torch.optim as optim\n",
    "\n",
    "import matplotlib.pyplot as plt"
   ]
  },
  {
   "attachments": {},
   "cell_type": "markdown",
   "metadata": {},
   "source": [
    "Hyperparameters"
   ]
  },
  {
   "cell_type": "code",
   "execution_count": 2,
   "metadata": {},
   "outputs": [
    {
     "data": {
      "text/plain": [
       "<torch._C.Generator at 0x114183350>"
      ]
     },
     "execution_count": 2,
     "metadata": {},
     "output_type": "execute_result"
    }
   ],
   "source": [
    "n_epochs = 3\n",
    "batch_size_train = 64\n",
    "batch_size_test = 1000\n",
    "learning_rate = 0.01\n",
    "momentum = 0.5\n",
    "log_interval = 10\n",
    "\n",
    "random_seed = 1\n",
    "torch.backends.cudnn.enabled = False\n",
    "torch.manual_seed(random_seed)"
   ]
  },
  {
   "attachments": {},
   "cell_type": "markdown",
   "metadata": {},
   "source": [
    "Load the MNIST dataset"
   ]
  },
  {
   "cell_type": "code",
   "execution_count": 14,
   "metadata": {},
   "outputs": [
    {
     "name": "stderr",
     "output_type": "stream",
     "text": [
      "1.0%"
     ]
    },
    {
     "name": "stdout",
     "output_type": "stream",
     "text": [
      "Downloading http://yann.lecun.com/exdb/mnist/train-images-idx3-ubyte.gz\n",
      "Downloading http://yann.lecun.com/exdb/mnist/train-images-idx3-ubyte.gz to ./MNIST/raw/train-images-idx3-ubyte.gz\n"
     ]
    },
    {
     "name": "stderr",
     "output_type": "stream",
     "text": [
      "100.0%\n"
     ]
    },
    {
     "name": "stdout",
     "output_type": "stream",
     "text": [
      "Extracting ./MNIST/raw/train-images-idx3-ubyte.gz to ./MNIST/raw\n"
     ]
    },
    {
     "name": "stderr",
     "output_type": "stream",
     "text": [
      "100.0%"
     ]
    },
    {
     "name": "stdout",
     "output_type": "stream",
     "text": [
      "\n",
      "Downloading http://yann.lecun.com/exdb/mnist/train-labels-idx1-ubyte.gz\n",
      "Downloading http://yann.lecun.com/exdb/mnist/train-labels-idx1-ubyte.gz to ./MNIST/raw/train-labels-idx1-ubyte.gz\n",
      "Extracting ./MNIST/raw/train-labels-idx1-ubyte.gz to ./MNIST/raw\n",
      "\n",
      "Downloading http://yann.lecun.com/exdb/mnist/t10k-images-idx3-ubyte.gz\n"
     ]
    },
    {
     "name": "stderr",
     "output_type": "stream",
     "text": [
      "\n",
      "19.9%"
     ]
    },
    {
     "name": "stdout",
     "output_type": "stream",
     "text": [
      "Downloading http://yann.lecun.com/exdb/mnist/t10k-images-idx3-ubyte.gz to ./MNIST/raw/t10k-images-idx3-ubyte.gz\n"
     ]
    },
    {
     "name": "stderr",
     "output_type": "stream",
     "text": [
      "100.0%\n"
     ]
    },
    {
     "name": "stdout",
     "output_type": "stream",
     "text": [
      "Extracting ./MNIST/raw/t10k-images-idx3-ubyte.gz to ./MNIST/raw\n",
      "\n",
      "Downloading http://yann.lecun.com/exdb/mnist/t10k-labels-idx1-ubyte.gz\n"
     ]
    },
    {
     "name": "stderr",
     "output_type": "stream",
     "text": [
      "100.0%"
     ]
    },
    {
     "name": "stdout",
     "output_type": "stream",
     "text": [
      "Downloading http://yann.lecun.com/exdb/mnist/t10k-labels-idx1-ubyte.gz to ./MNIST/raw/t10k-labels-idx1-ubyte.gz\n",
      "Extracting ./MNIST/raw/t10k-labels-idx1-ubyte.gz to ./MNIST/raw\n",
      "\n"
     ]
    },
    {
     "name": "stderr",
     "output_type": "stream",
     "text": [
      "\n"
     ]
    }
   ],
   "source": [
    "train_loader = torch.utils.data.DataLoader(\n",
    "  torchvision.datasets.MNIST('./', train=True, download=True,\n",
    "                             transform=torchvision.transforms.Compose([\n",
    "                               torchvision.transforms.ToTensor(),\n",
    "                               torchvision.transforms.Normalize(\n",
    "                                 (0.1307,), (0.3081,))\n",
    "                             ])),\n",
    "  batch_size=batch_size_train, shuffle=True)\n",
    "\n",
    "test_loader = torch.utils.data.DataLoader(\n",
    "  torchvision.datasets.MNIST('./', train=False, download=True,\n",
    "                             transform=torchvision.transforms.Compose([\n",
    "                               torchvision.transforms.ToTensor(),\n",
    "                               torchvision.transforms.Normalize(\n",
    "                                 (0.1307,), (0.3081,))\n",
    "                             ])),\n",
    "  batch_size=batch_size_test, shuffle=True)"
   ]
  },
  {
   "cell_type": "code",
   "execution_count": 4,
   "metadata": {},
   "outputs": [
    {
     "name": "stdout",
     "output_type": "stream",
     "text": [
      "torch.Size([1000, 1, 28, 28])\n"
     ]
    },
    {
     "data": {
      "image/png": "[encoded data removed]",
      "text/plain": [
       "<Figure size 640x480 with 6 Axes>"
      ]
     },
     "execution_count": 4,
     "metadata": {},
     "output_type": "execute_result"
    },
    {
     "data": {
      "image/png": "[encoded data removed]",
      "text/plain": [
       "<Figure size 640x480 with 6 Axes>"
      ]
     },
     "metadata": {},
     "output_type": "display_data"
    }
   ],
   "source": [
    "examples = enumerate(test_loader)\n",
    "batch_idx, (example_data, example_targets) = next(examples)\n",
    "print(example_data.shape)\n",
    "\n",
    "\n",
    "fig = plt.figure()\n",
    "for i in range(6):\n",
    "  plt.subplot(2,3,i+1)\n",
    "  plt.tight_layout()\n",
    "  plt.imshow(example_data[i][0], cmap='gray', interpolation='none')\n",
    "  plt.title(\"Ground Truth: {}\".format(example_targets[i]))\n",
    "  plt.xticks([])\n",
    "  plt.yticks([])\n",
    "fig"
   ]
  },
  {
   "cell_type": "code",
   "execution_count": 5,
   "metadata": {},
   "outputs": [],
   "source": [
    "class NetSimple(nn.Module):\n",
    "    def __init__(self):\n",
    "        super(NetSimple,self).__init__()\n",
    "        self.conv1 = nn.Conv2d(1 , 10 , kernel_size= 5)\n",
    "        self.conv2 = nn.Conv2d(10 , 20 , kernel_size= 5)\n",
    "        self.dropout = nn.Dropout2d()\n",
    "        self.fc1 = nn.Linear(320, 50)\n",
    "        self.fc2 = nn.Linear(50, 10)\n",
    "\n",
    "    def forward(self, x ):\n",
    "        x = F.relu(F.max_pool2d(self.conv1(x), 2))\n",
    "        x = F.relu(F.max_pool2d(self.dropout(self.conv2(x)), 2))\n",
    "        x = x.view(-1, 320)\n",
    "        x = F.relu(self.fc1(x))\n",
    "        x = F.dropout(x, training=self.training)\n",
    "        x = self.fc2(x)\n",
    "        return F.log_softmax(x)\n",
    "        \n",
    "networkSimple = NetSimple()\n",
    "optimizer = optim.SGD(networkSimple.parameters(), lr=learning_rate,\n",
    "                      momentum=momentum)"
   ]
  },
  {
   "cell_type": "code",
   "execution_count": null,
   "metadata": {},
   "outputs": [],
   "source": [
    "\n"
   ]
  },
  {
   "cell_type": "code",
   "execution_count": 6,
   "metadata": {},
   "outputs": [],
   "source": [
    "\n",
    "def train(epoch):\n",
    "    networkSimple.train()\n",
    "    for batch_idx, (data, target) in enumerate(train_loader):\n",
    "        optimizer.zero_grad()\n",
    "        output = networkSimple(data)\n",
    "        loss = F.nll_loss(output, target)\n",
    "        loss.backward()\n",
    "        optimizer.step()\n",
    "        if batch_idx % log_interval == 0:\n",
    "            print('Train Epoch: {} [{}/{} ({:.0f}%)]\\tLoss: {:.6f}'.format(\n",
    "                epoch, batch_idx * len(data), len(train_loader.dataset),\n",
    "                100. * batch_idx / len(train_loader), loss.item()))\n",
    "            train_losses.append(loss.item())\n",
    "            train_counter.append(\n",
    "            (batch_idx*64) + ((epoch-1)*len(train_loader.dataset)))\n",
    "            torch.save(networkSimple.state_dict(), './model.pth')\n",
    "            torch.save(optimizer.state_dict(), './optimizer.pth')"
   ]
  },
  {
   "cell_type": "code",
   "execution_count": 7,
   "metadata": {},
   "outputs": [],
   "source": [
    "def test():\n",
    "    networkSimple.eval()\n",
    "    test_loss = 0\n",
    "    correct = 0\n",
    "    with torch.no_grad():\n",
    "        for data, target in test_loader:\n",
    "            output = networkSimple(data)\n",
    "            test_loss += F.nll_loss(output, target, size_average=False).item()\n",
    "            pred = output.data.max(1, keepdim=True)[1]\n",
    "            correct += pred.eq(target.data.view_as(pred)).sum()\n",
    "    test_loss /= len(test_loader.dataset)\n",
    "    test_losses.append(test_loss)\n",
    "    print('\\nTest set: Avg. loss: {:.4f}, Accuracy: {}/{} ({:.0f}%)\\n'.format(\n",
    "        test_loss, correct, len(test_loader.dataset),\n",
    "        100. * correct / len(test_loader.dataset)))"
   ]
  },
  {
   "cell_type": "code",
   "execution_count": 8,
   "metadata": {
    "slideshow": {
     "slide_type": "slide"
    }
   },
   "outputs": [
    {
     "name": "stderr",
     "output_type": "stream",
     "text": [
      "/var/folders/qk/st4v94_949n0_8cn5pjn22z00000gn/T/ipykernel_72925/1412990414.py:17: UserWarning: Implicit dimension choice for log_softmax has been deprecated. Change the call to include dim=X as an argument.\n",
      "  return F.log_softmax(x)\n",
      "/usr/local/lib/python3.9/site-packages/torch/nn/_reduction.py:42: UserWarning: size_average and reduce args will be deprecated, please use reduction='sum' instead.\n",
      "  warnings.warn(warning.format(ret))\n"
     ]
    },
    {
     "name": "stdout",
     "output_type": "stream",
     "text": [
      "\n",
      "Test set: Avg. loss: 2.3096, Accuracy: 924/10000 (9%)\n",
      "\n",
      "Train Epoch: 1 [0/60000 (0%)]\tLoss: 2.313179\n",
      "Train Epoch: 1 [640/60000 (1%)]\tLoss: 2.300776\n",
      "Train Epoch: 1 [1280/60000 (2%)]\tLoss: 2.298872\n",
      "Train Epoch: 1 [1920/60000 (3%)]\tLoss: 2.276723\n",
      "Train Epoch: 1 [2560/60000 (4%)]\tLoss: 2.241102\n",
      "Train Epoch: 1 [3200/60000 (5%)]\tLoss: 2.248662\n",
      "Train Epoch: 1 [3840/60000 (6%)]\tLoss: 2.189547\n",
      "Train Epoch: 1 [4480/60000 (7%)]\tLoss: 2.146399\n",
      "Train Epoch: 1 [5120/60000 (9%)]\tLoss: 2.107701\n",
      "Train Epoch: 1 [5760/60000 (10%)]\tLoss: 2.011356\n",
      "Train Epoch: 1 [6400/60000 (11%)]\tLoss: 1.843857\n",
      "Train Epoch: 1 [7040/60000 (12%)]\tLoss: 1.758839\n",
      "Train Epoch: 1 [7680/60000 (13%)]\tLoss: 1.672644\n",
      "Train Epoch: 1 [8320/60000 (14%)]\tLoss: 1.687645\n",
      "Train Epoch: 1 [8960/60000 (15%)]\tLoss: 1.426628\n",
      "Train Epoch: 1 [9600/60000 (16%)]\tLoss: 1.284204\n",
      "Train Epoch: 1 [10240/60000 (17%)]\tLoss: 1.318824\n",
      "Train Epoch: 1 [10880/60000 (18%)]\tLoss: 1.445287\n",
      "Train Epoch: 1 [11520/60000 (19%)]\tLoss: 1.140658\n",
      "Train Epoch: 1 [12160/60000 (20%)]\tLoss: 1.152956\n",
      "Train Epoch: 1 [12800/60000 (21%)]\tLoss: 1.053577\n",
      "Train Epoch: 1 [13440/60000 (22%)]\tLoss: 0.899838\n",
      "Train Epoch: 1 [14080/60000 (23%)]\tLoss: 1.192381\n",
      "Train Epoch: 1 [14720/60000 (25%)]\tLoss: 0.947141\n",
      "Train Epoch: 1 [15360/60000 (26%)]\tLoss: 0.874856\n",
      "Train Epoch: 1 [16000/60000 (27%)]\tLoss: 0.848544\n",
      "Train Epoch: 1 [16640/60000 (28%)]\tLoss: 0.771893\n",
      "Train Epoch: 1 [17280/60000 (29%)]\tLoss: 0.764048\n",
      "Train Epoch: 1 [17920/60000 (30%)]\tLoss: 0.805497\n",
      "Train Epoch: 1 [18560/60000 (31%)]\tLoss: 0.891861\n",
      "Train Epoch: 1 [19200/60000 (32%)]\tLoss: 0.795640\n",
      "Train Epoch: 1 [19840/60000 (33%)]\tLoss: 0.910627\n",
      "Train Epoch: 1 [20480/60000 (34%)]\tLoss: 0.582403\n",
      "Train Epoch: 1 [21120/60000 (35%)]\tLoss: 0.694939\n",
      "Train Epoch: 1 [21760/60000 (36%)]\tLoss: 0.619523\n",
      "Train Epoch: 1 [22400/60000 (37%)]\tLoss: 0.766233\n",
      "Train Epoch: 1 [23040/60000 (38%)]\tLoss: 0.715024\n",
      "Train Epoch: 1 [23680/60000 (39%)]\tLoss: 0.632636\n",
      "Train Epoch: 1 [24320/60000 (41%)]\tLoss: 0.665659\n",
      "Train Epoch: 1 [24960/60000 (42%)]\tLoss: 0.840592\n",
      "Train Epoch: 1 [25600/60000 (43%)]\tLoss: 0.855430\n",
      "Train Epoch: 1 [26240/60000 (44%)]\tLoss: 0.620044\n",
      "Train Epoch: 1 [26880/60000 (45%)]\tLoss: 0.630453\n",
      "Train Epoch: 1 [27520/60000 (46%)]\tLoss: 0.687899\n",
      "Train Epoch: 1 [28160/60000 (47%)]\tLoss: 0.587980\n",
      "Train Epoch: 1 [28800/60000 (48%)]\tLoss: 0.547443\n",
      "Train Epoch: 1 [29440/60000 (49%)]\tLoss: 0.833101\n",
      "Train Epoch: 1 [30080/60000 (50%)]\tLoss: 0.739252\n",
      "Train Epoch: 1 [30720/60000 (51%)]\tLoss: 0.632813\n",
      "Train Epoch: 1 [31360/60000 (52%)]\tLoss: 0.645520\n",
      "Train Epoch: 1 [32000/60000 (53%)]\tLoss: 0.711382\n",
      "Train Epoch: 1 [32640/60000 (54%)]\tLoss: 0.442867\n",
      "Train Epoch: 1 [33280/60000 (55%)]\tLoss: 0.587728\n",
      "Train Epoch: 1 [33920/60000 (57%)]\tLoss: 0.578384\n",
      "Train Epoch: 1 [34560/60000 (58%)]\tLoss: 0.661393\n",
      "Train Epoch: 1 [35200/60000 (59%)]\tLoss: 0.572608\n",
      "Train Epoch: 1 [35840/60000 (60%)]\tLoss: 0.562217\n",
      "Train Epoch: 1 [36480/60000 (61%)]\tLoss: 0.626204\n",
      "Train Epoch: 1 [37120/60000 (62%)]\tLoss: 0.804177\n",
      "Train Epoch: 1 [37760/60000 (63%)]\tLoss: 0.572911\n",
      "Train Epoch: 1 [38400/60000 (64%)]\tLoss: 0.628016\n",
      "Train Epoch: 1 [39040/60000 (65%)]\tLoss: 0.547954\n",
      "Train Epoch: 1 [39680/60000 (66%)]\tLoss: 0.627492\n",
      "Train Epoch: 1 [40320/60000 (67%)]\tLoss: 0.320141\n",
      "Train Epoch: 1 [40960/60000 (68%)]\tLoss: 0.337059\n",
      "Train Epoch: 1 [41600/60000 (69%)]\tLoss: 0.374717\n",
      "Train Epoch: 1 [42240/60000 (70%)]\tLoss: 0.296084\n",
      "Train Epoch: 1 [42880/60000 (71%)]\tLoss: 0.405675\n",
      "Train Epoch: 1 [43520/60000 (72%)]\tLoss: 0.432397\n",
      "Train Epoch: 1 [44160/60000 (74%)]\tLoss: 0.448420\n",
      "Train Epoch: 1 [44800/60000 (75%)]\tLoss: 0.614527\n",
      "Train Epoch: 1 [45440/60000 (76%)]\tLoss: 0.526024\n",
      "Train Epoch: 1 [46080/60000 (77%)]\tLoss: 0.519890\n",
      "Train Epoch: 1 [46720/60000 (78%)]\tLoss: 0.387121\n",
      "Train Epoch: 1 [47360/60000 (79%)]\tLoss: 0.494344\n",
      "Train Epoch: 1 [48000/60000 (80%)]\tLoss: 0.566488\n",
      "Train Epoch: 1 [48640/60000 (81%)]\tLoss: 0.421320\n",
      "Train Epoch: 1 [49280/60000 (82%)]\tLoss: 0.401158\n",
      "Train Epoch: 1 [49920/60000 (83%)]\tLoss: 0.516471\n",
      "Train Epoch: 1 [50560/60000 (84%)]\tLoss: 0.434293\n",
      "Train Epoch: 1 [51200/60000 (85%)]\tLoss: 0.696893\n",
      "Train Epoch: 1 [51840/60000 (86%)]\tLoss: 0.502421\n",
      "Train Epoch: 1 [52480/60000 (87%)]\tLoss: 0.680631\n",
      "Train Epoch: 1 [53120/60000 (88%)]\tLoss: 0.543987\n",
      "Train Epoch: 1 [53760/60000 (90%)]\tLoss: 0.557211\n",
      "Train Epoch: 1 [54400/60000 (91%)]\tLoss: 0.642933\n",
      "Train Epoch: 1 [55040/60000 (92%)]\tLoss: 0.443401\n",
      "Train Epoch: 1 [55680/60000 (93%)]\tLoss: 0.553500\n",
      "Train Epoch: 1 [56320/60000 (94%)]\tLoss: 0.553955\n",
      "Train Epoch: 1 [56960/60000 (95%)]\tLoss: 0.361369\n",
      "Train Epoch: 1 [57600/60000 (96%)]\tLoss: 0.317700\n",
      "Train Epoch: 1 [58240/60000 (97%)]\tLoss: 0.299254\n",
      "Train Epoch: 1 [58880/60000 (98%)]\tLoss: 0.715924\n",
      "Train Epoch: 1 [59520/60000 (99%)]\tLoss: 0.376464\n",
      "\n",
      "Test set: Avg. loss: 0.1862, Accuracy: 9440/10000 (94%)\n",
      "\n",
      "Train Epoch: 2 [0/60000 (0%)]\tLoss: 0.447946\n",
      "Train Epoch: 2 [640/60000 (1%)]\tLoss: 0.453806\n",
      "Train Epoch: 2 [1280/60000 (2%)]\tLoss: 0.495972\n",
      "Train Epoch: 2 [1920/60000 (3%)]\tLoss: 0.510078\n",
      "Train Epoch: 2 [2560/60000 (4%)]\tLoss: 0.302920\n",
      "Train Epoch: 2 [3200/60000 (5%)]\tLoss: 0.169393\n",
      "Train Epoch: 2 [3840/60000 (6%)]\tLoss: 0.485217\n",
      "Train Epoch: 2 [4480/60000 (7%)]\tLoss: 0.409695\n",
      "Train Epoch: 2 [5120/60000 (9%)]\tLoss: 0.394459\n",
      "Train Epoch: 2 [5760/60000 (10%)]\tLoss: 0.636536\n",
      "Train Epoch: 2 [6400/60000 (11%)]\tLoss: 0.562686\n",
      "Train Epoch: 2 [7040/60000 (12%)]\tLoss: 0.314591\n",
      "Train Epoch: 2 [7680/60000 (13%)]\tLoss: 0.446429\n",
      "Train Epoch: 2 [8320/60000 (14%)]\tLoss: 0.639510\n",
      "Train Epoch: 2 [8960/60000 (15%)]\tLoss: 0.502673\n",
      "Train Epoch: 2 [9600/60000 (16%)]\tLoss: 0.443994\n",
      "Train Epoch: 2 [10240/60000 (17%)]\tLoss: 0.303938\n",
      "Train Epoch: 2 [10880/60000 (18%)]\tLoss: 0.506890\n",
      "Train Epoch: 2 [11520/60000 (19%)]\tLoss: 0.326802\n",
      "Train Epoch: 2 [12160/60000 (20%)]\tLoss: 0.316975\n",
      "Train Epoch: 2 [12800/60000 (21%)]\tLoss: 0.477174\n",
      "Train Epoch: 2 [13440/60000 (22%)]\tLoss: 0.472856\n",
      "Train Epoch: 2 [14080/60000 (23%)]\tLoss: 0.470916\n",
      "Train Epoch: 2 [14720/60000 (25%)]\tLoss: 0.364697\n",
      "Train Epoch: 2 [15360/60000 (26%)]\tLoss: 0.203524\n",
      "Train Epoch: 2 [16000/60000 (27%)]\tLoss: 0.246808\n",
      "Train Epoch: 2 [16640/60000 (28%)]\tLoss: 0.369131\n",
      "Train Epoch: 2 [17280/60000 (29%)]\tLoss: 0.422801\n",
      "Train Epoch: 2 [17920/60000 (30%)]\tLoss: 0.327336\n",
      "Train Epoch: 2 [18560/60000 (31%)]\tLoss: 0.342349\n",
      "Train Epoch: 2 [19200/60000 (32%)]\tLoss: 0.502576\n",
      "Train Epoch: 2 [19840/60000 (33%)]\tLoss: 0.332740\n",
      "Train Epoch: 2 [20480/60000 (34%)]\tLoss: 0.352474\n",
      "Train Epoch: 2 [21120/60000 (35%)]\tLoss: 0.368914\n",
      "Train Epoch: 2 [21760/60000 (36%)]\tLoss: 0.486719\n",
      "Train Epoch: 2 [22400/60000 (37%)]\tLoss: 0.581924\n",
      "Train Epoch: 2 [23040/60000 (38%)]\tLoss: 0.500971\n",
      "Train Epoch: 2 [23680/60000 (39%)]\tLoss: 0.348094\n",
      "Train Epoch: 2 [24320/60000 (41%)]\tLoss: 0.418581\n",
      "Train Epoch: 2 [24960/60000 (42%)]\tLoss: 0.205654\n",
      "Train Epoch: 2 [25600/60000 (43%)]\tLoss: 0.207148\n",
      "Train Epoch: 2 [26240/60000 (44%)]\tLoss: 0.396269\n",
      "Train Epoch: 2 [26880/60000 (45%)]\tLoss: 0.294439\n",
      "Train Epoch: 2 [27520/60000 (46%)]\tLoss: 0.218779\n",
      "Train Epoch: 2 [28160/60000 (47%)]\tLoss: 0.176633\n",
      "Train Epoch: 2 [28800/60000 (48%)]\tLoss: 0.258026\n",
      "Train Epoch: 2 [29440/60000 (49%)]\tLoss: 0.533862\n",
      "Train Epoch: 2 [30080/60000 (50%)]\tLoss: 0.295689\n",
      "Train Epoch: 2 [30720/60000 (51%)]\tLoss: 0.312143\n",
      "Train Epoch: 2 [31360/60000 (52%)]\tLoss: 0.459333\n",
      "Train Epoch: 2 [32000/60000 (53%)]\tLoss: 0.673349\n",
      "Train Epoch: 2 [32640/60000 (54%)]\tLoss: 0.303741\n",
      "Train Epoch: 2 [33280/60000 (55%)]\tLoss: 0.280769\n",
      "Train Epoch: 2 [33920/60000 (57%)]\tLoss: 0.429509\n",
      "Train Epoch: 2 [34560/60000 (58%)]\tLoss: 0.390309\n",
      "Train Epoch: 2 [35200/60000 (59%)]\tLoss: 0.430750\n",
      "Train Epoch: 2 [35840/60000 (60%)]\tLoss: 0.461929\n",
      "Train Epoch: 2 [36480/60000 (61%)]\tLoss: 0.339557\n",
      "Train Epoch: 2 [37120/60000 (62%)]\tLoss: 0.475213\n",
      "Train Epoch: 2 [37760/60000 (63%)]\tLoss: 0.419544\n",
      "Train Epoch: 2 [38400/60000 (64%)]\tLoss: 0.282112\n",
      "Train Epoch: 2 [39040/60000 (65%)]\tLoss: 0.197554\n",
      "Train Epoch: 2 [39680/60000 (66%)]\tLoss: 0.423171\n",
      "Train Epoch: 2 [40320/60000 (67%)]\tLoss: 0.198415\n",
      "Train Epoch: 2 [40960/60000 (68%)]\tLoss: 0.476260\n",
      "Train Epoch: 2 [41600/60000 (69%)]\tLoss: 0.143228\n",
      "Train Epoch: 2 [42240/60000 (70%)]\tLoss: 0.345301\n",
      "Train Epoch: 2 [42880/60000 (71%)]\tLoss: 0.476832\n",
      "Train Epoch: 2 [43520/60000 (72%)]\tLoss: 0.273533\n",
      "Train Epoch: 2 [44160/60000 (74%)]\tLoss: 0.404415\n",
      "Train Epoch: 2 [44800/60000 (75%)]\tLoss: 0.232789\n",
      "Train Epoch: 2 [45440/60000 (76%)]\tLoss: 0.501238\n",
      "Train Epoch: 2 [46080/60000 (77%)]\tLoss: 0.304567\n",
      "Train Epoch: 2 [46720/60000 (78%)]\tLoss: 0.285888\n",
      "Train Epoch: 2 [47360/60000 (79%)]\tLoss: 0.205814\n",
      "Train Epoch: 2 [48000/60000 (80%)]\tLoss: 0.273209\n",
      "Train Epoch: 2 [48640/60000 (81%)]\tLoss: 0.365769\n",
      "Train Epoch: 2 [49280/60000 (82%)]\tLoss: 0.441182\n",
      "Train Epoch: 2 [49920/60000 (83%)]\tLoss: 0.271288\n",
      "Train Epoch: 2 [50560/60000 (84%)]\tLoss: 0.313797\n",
      "Train Epoch: 2 [51200/60000 (85%)]\tLoss: 0.450155\n",
      "Train Epoch: 2 [51840/60000 (86%)]\tLoss: 0.318489\n",
      "Train Epoch: 2 [52480/60000 (87%)]\tLoss: 0.341872\n",
      "Train Epoch: 2 [53120/60000 (88%)]\tLoss: 0.265399\n",
      "Train Epoch: 2 [53760/60000 (90%)]\tLoss: 0.241761\n",
      "Train Epoch: 2 [54400/60000 (91%)]\tLoss: 0.193689\n",
      "Train Epoch: 2 [55040/60000 (92%)]\tLoss: 0.492001\n",
      "Train Epoch: 2 [55680/60000 (93%)]\tLoss: 0.187262\n",
      "Train Epoch: 2 [56320/60000 (94%)]\tLoss: 0.370017\n",
      "Train Epoch: 2 [56960/60000 (95%)]\tLoss: 0.215848\n",
      "Train Epoch: 2 [57600/60000 (96%)]\tLoss: 0.552843\n",
      "Train Epoch: 2 [58240/60000 (97%)]\tLoss: 0.485946\n",
      "Train Epoch: 2 [58880/60000 (98%)]\tLoss: 0.270657\n",
      "Train Epoch: 2 [59520/60000 (99%)]\tLoss: 0.292547\n",
      "\n",
      "Test set: Avg. loss: 0.1162, Accuracy: 9637/10000 (96%)\n",
      "\n",
      "Train Epoch: 3 [0/60000 (0%)]\tLoss: 0.207197\n",
      "Train Epoch: 3 [640/60000 (1%)]\tLoss: 0.241461\n",
      "Train Epoch: 3 [1280/60000 (2%)]\tLoss: 0.386904\n",
      "Train Epoch: 3 [1920/60000 (3%)]\tLoss: 0.263315\n",
      "Train Epoch: 3 [2560/60000 (4%)]\tLoss: 0.260965\n",
      "Train Epoch: 3 [3200/60000 (5%)]\tLoss: 0.313858\n",
      "Train Epoch: 3 [3840/60000 (6%)]\tLoss: 0.272541\n",
      "Train Epoch: 3 [4480/60000 (7%)]\tLoss: 0.472268\n",
      "Train Epoch: 3 [5120/60000 (9%)]\tLoss: 0.505908\n",
      "Train Epoch: 3 [5760/60000 (10%)]\tLoss: 0.412337\n",
      "Train Epoch: 3 [6400/60000 (11%)]\tLoss: 0.302424\n",
      "Train Epoch: 3 [7040/60000 (12%)]\tLoss: 0.345324\n",
      "Train Epoch: 3 [7680/60000 (13%)]\tLoss: 0.248978\n",
      "Train Epoch: 3 [8320/60000 (14%)]\tLoss: 0.164804\n",
      "Train Epoch: 3 [8960/60000 (15%)]\tLoss: 0.254942\n",
      "Train Epoch: 3 [9600/60000 (16%)]\tLoss: 0.235287\n",
      "Train Epoch: 3 [10240/60000 (17%)]\tLoss: 0.280062\n",
      "Train Epoch: 3 [10880/60000 (18%)]\tLoss: 0.299722\n",
      "Train Epoch: 3 [11520/60000 (19%)]\tLoss: 0.435550\n",
      "Train Epoch: 3 [12160/60000 (20%)]\tLoss: 0.214203\n",
      "Train Epoch: 3 [12800/60000 (21%)]\tLoss: 0.435940\n",
      "Train Epoch: 3 [13440/60000 (22%)]\tLoss: 0.336758\n",
      "Train Epoch: 3 [14080/60000 (23%)]\tLoss: 0.327352\n",
      "Train Epoch: 3 [14720/60000 (25%)]\tLoss: 0.322353\n",
      "Train Epoch: 3 [15360/60000 (26%)]\tLoss: 0.321700\n",
      "Train Epoch: 3 [16000/60000 (27%)]\tLoss: 0.820755\n",
      "Train Epoch: 3 [16640/60000 (28%)]\tLoss: 0.536153\n",
      "Train Epoch: 3 [17280/60000 (29%)]\tLoss: 0.440737\n",
      "Train Epoch: 3 [17920/60000 (30%)]\tLoss: 0.315416\n",
      "Train Epoch: 3 [18560/60000 (31%)]\tLoss: 0.312953\n",
      "Train Epoch: 3 [19200/60000 (32%)]\tLoss: 0.355856\n",
      "Train Epoch: 3 [19840/60000 (33%)]\tLoss: 0.346739\n",
      "Train Epoch: 3 [20480/60000 (34%)]\tLoss: 0.186942\n",
      "Train Epoch: 3 [21120/60000 (35%)]\tLoss: 0.169314\n",
      "Train Epoch: 3 [21760/60000 (36%)]\tLoss: 0.317839\n",
      "Train Epoch: 3 [22400/60000 (37%)]\tLoss: 0.223110\n",
      "Train Epoch: 3 [23040/60000 (38%)]\tLoss: 0.440365\n",
      "Train Epoch: 3 [23680/60000 (39%)]\tLoss: 0.198690\n",
      "Train Epoch: 3 [24320/60000 (41%)]\tLoss: 0.236260\n",
      "Train Epoch: 3 [24960/60000 (42%)]\tLoss: 0.165257\n",
      "Train Epoch: 3 [25600/60000 (43%)]\tLoss: 0.424176\n",
      "Train Epoch: 3 [26240/60000 (44%)]\tLoss: 0.198450\n",
      "Train Epoch: 3 [26880/60000 (45%)]\tLoss: 0.199476\n",
      "Train Epoch: 3 [27520/60000 (46%)]\tLoss: 0.205426\n",
      "Train Epoch: 3 [28160/60000 (47%)]\tLoss: 0.304145\n",
      "Train Epoch: 3 [28800/60000 (48%)]\tLoss: 0.464600\n",
      "Train Epoch: 3 [29440/60000 (49%)]\tLoss: 0.151926\n",
      "Train Epoch: 3 [30080/60000 (50%)]\tLoss: 0.257777\n",
      "Train Epoch: 3 [30720/60000 (51%)]\tLoss: 0.231360\n",
      "Train Epoch: 3 [31360/60000 (52%)]\tLoss: 0.219187\n",
      "Train Epoch: 3 [32000/60000 (53%)]\tLoss: 0.471887\n",
      "Train Epoch: 3 [32640/60000 (54%)]\tLoss: 0.347756\n",
      "Train Epoch: 3 [33280/60000 (55%)]\tLoss: 0.176984\n",
      "Train Epoch: 3 [33920/60000 (57%)]\tLoss: 0.465855\n",
      "Train Epoch: 3 [34560/60000 (58%)]\tLoss: 0.262662\n",
      "Train Epoch: 3 [35200/60000 (59%)]\tLoss: 0.318375\n",
      "Train Epoch: 3 [35840/60000 (60%)]\tLoss: 0.481771\n",
      "Train Epoch: 3 [36480/60000 (61%)]\tLoss: 0.185226\n",
      "Train Epoch: 3 [37120/60000 (62%)]\tLoss: 0.201352\n",
      "Train Epoch: 3 [37760/60000 (63%)]\tLoss: 0.341131\n",
      "Train Epoch: 3 [38400/60000 (64%)]\tLoss: 0.441247\n",
      "Train Epoch: 3 [39040/60000 (65%)]\tLoss: 0.354180\n",
      "Train Epoch: 3 [39680/60000 (66%)]\tLoss: 0.201171\n",
      "Train Epoch: 3 [40320/60000 (67%)]\tLoss: 0.241291\n",
      "Train Epoch: 3 [40960/60000 (68%)]\tLoss: 0.442706\n",
      "Train Epoch: 3 [41600/60000 (69%)]\tLoss: 0.324310\n",
      "Train Epoch: 3 [42240/60000 (70%)]\tLoss: 0.388922\n",
      "Train Epoch: 3 [42880/60000 (71%)]\tLoss: 0.188617\n",
      "Train Epoch: 3 [43520/60000 (72%)]\tLoss: 0.239216\n",
      "Train Epoch: 3 [44160/60000 (74%)]\tLoss: 0.298517\n",
      "Train Epoch: 3 [44800/60000 (75%)]\tLoss: 0.181059\n",
      "Train Epoch: 3 [45440/60000 (76%)]\tLoss: 0.241717\n",
      "Train Epoch: 3 [46080/60000 (77%)]\tLoss: 0.339106\n",
      "Train Epoch: 3 [46720/60000 (78%)]\tLoss: 0.193033\n",
      "Train Epoch: 3 [47360/60000 (79%)]\tLoss: 0.364128\n",
      "Train Epoch: 3 [48000/60000 (80%)]\tLoss: 0.331322\n",
      "Train Epoch: 3 [48640/60000 (81%)]\tLoss: 0.213748\n",
      "Train Epoch: 3 [49280/60000 (82%)]\tLoss: 0.223197\n",
      "Train Epoch: 3 [49920/60000 (83%)]\tLoss: 0.469465\n",
      "Train Epoch: 3 [50560/60000 (84%)]\tLoss: 0.405913\n",
      "Train Epoch: 3 [51200/60000 (85%)]\tLoss: 0.410941\n",
      "Train Epoch: 3 [51840/60000 (86%)]\tLoss: 0.258680\n",
      "Train Epoch: 3 [52480/60000 (87%)]\tLoss: 0.504662\n",
      "Train Epoch: 3 [53120/60000 (88%)]\tLoss: 0.220281\n",
      "Train Epoch: 3 [53760/60000 (90%)]\tLoss: 0.194384\n",
      "Train Epoch: 3 [54400/60000 (91%)]\tLoss: 0.412636\n",
      "Train Epoch: 3 [55040/60000 (92%)]\tLoss: 0.294746\n",
      "Train Epoch: 3 [55680/60000 (93%)]\tLoss: 0.166359\n",
      "Train Epoch: 3 [56320/60000 (94%)]\tLoss: 0.274953\n",
      "Train Epoch: 3 [56960/60000 (95%)]\tLoss: 0.320169\n",
      "Train Epoch: 3 [57600/60000 (96%)]\tLoss: 0.528026\n",
      "Train Epoch: 3 [58240/60000 (97%)]\tLoss: 0.374010\n",
      "Train Epoch: 3 [58880/60000 (98%)]\tLoss: 0.114517\n",
      "Train Epoch: 3 [59520/60000 (99%)]\tLoss: 0.306361\n",
      "\n",
      "Test set: Avg. loss: 0.0988, Accuracy: 9693/10000 (97%)\n",
      "\n"
     ]
    }
   ],
   "source": [
    "train_losses = []\n",
    "train_counter = []\n",
    "test_losses = []\n",
    "test_counter = [i*len(train_loader.dataset) for i in range(n_epochs + 1)]\n",
    "\n",
    "test()\n",
    "for epoch in range(1, n_epochs + 1):\n",
    "  train(epoch)\n",
    "  test()"
   ]
  },
  {
   "cell_type": "code",
   "execution_count": 9,
   "metadata": {},
   "outputs": [
    {
     "data": {
      "image/png": "[encoded data removed]",
      "text/plain": [
       "<Figure size 640x480 with 1 Axes>"
      ]
     },
     "metadata": {},
     "output_type": "display_data"
    }
   ],
   "source": [
    "fig = plt.figure()\n",
    "plt.plot(train_counter, train_losses, color='blue')\n",
    "plt.scatter(test_counter, test_losses, color='red')\n",
    "plt.legend(['Train Loss', 'Test Loss'], loc='upper right')\n",
    "plt.xlabel('number of training examples seen')\n",
    "plt.ylabel('negative log likelihood loss')\n",
    "plt.show()"
   ]
  },
  {
   "cell_type": "code",
   "execution_count": 10,
   "metadata": {},
   "outputs": [
    {
     "name": "stderr",
     "output_type": "stream",
     "text": [
      "/var/folders/qk/st4v94_949n0_8cn5pjn22z00000gn/T/ipykernel_72925/1412990414.py:17: UserWarning: Implicit dimension choice for log_softmax has been deprecated. Change the call to include dim=X as an argument.\n",
      "  return F.log_softmax(x)\n"
     ]
    },
    {
     "data": {
      "image/png": "[encoded data removed]",
      "text/plain": [
       "<Figure size 640x480 with 6 Axes>"
      ]
     },
     "metadata": {},
     "output_type": "display_data"
    }
   ],
   "source": [
    "with torch.no_grad():\n",
    "    output = networkSimple(example_data)\n",
    "\n",
    "fig = plt.figure()\n",
    "for i in range(6):\n",
    "    plt.subplot(2,3,i+1)\n",
    "    plt.tight_layout()\n",
    "    plt.imshow(example_data[i][0], cmap='gray', interpolation='none')\n",
    "    plt.title(\"Prediction: {}\".format(\n",
    "        output.data.max(1, keepdim=True)[1][i].item()))\n",
    "    plt.xticks([])\n",
    "    plt.yticks([])\n",
    "plt.show()"
   ]
  },
  {
   "cell_type": "code",
   "execution_count": 11,
   "metadata": {},
   "outputs": [
    {
     "name": "stderr",
     "output_type": "stream",
     "text": [
      "/var/folders/qk/st4v94_949n0_8cn5pjn22z00000gn/T/ipykernel_72925/1412990414.py:17: UserWarning: Implicit dimension choice for log_softmax has been deprecated. Change the call to include dim=X as an argument.\n",
      "  return F.log_softmax(x)\n"
     ]
    },
    {
     "name": "stdout",
     "output_type": "stream",
     "text": [
      "Exported graph: graph(%input.1 : Float(1000, 1, 28, 28, strides=[784, 784, 28, 1], requires_grad=0, device=cpu),\n",
      "      %conv1.weight : Float(10, 1, 5, 5, strides=[25, 25, 5, 1], requires_grad=1, device=cpu),\n",
      "      %conv1.bias : Float(10, strides=[1], requires_grad=1, device=cpu),\n",
      "      %conv2.weight : Float(20, 10, 5, 5, strides=[250, 25, 5, 1], requires_grad=1, device=cpu),\n",
      "      %conv2.bias : Float(20, strides=[1], requires_grad=1, device=cpu),\n",
      "      %fc1.weight : Float(50, 320, strides=[320, 1], requires_grad=1, device=cpu),\n",
      "      %fc1.bias : Float(50, strides=[1], requires_grad=1, device=cpu),\n",
      "      %fc2.weight : Float(10, 50, strides=[50, 1], requires_grad=1, device=cpu),\n",
      "      %fc2.bias : Float(10, strides=[1], requires_grad=1, device=cpu)):\n",
      "  %/conv1/Conv_output_0 : Float(1000, 10, 24, 24, strides=[5760, 576, 24, 1], requires_grad=0, device=cpu) = onnx::Conv[dilations=[1, 1], group=1, kernel_shape=[5, 5], pads=[0, 0, 0, 0], strides=[1, 1], onnx_name=\"/conv1/Conv\"](%input.1, %conv1.weight, %conv1.bias), scope: __main__.NetSimple::/torch.nn.modules.conv.Conv2d::conv1 # /usr/local/lib/python3.9/site-packages/torch/nn/modules/conv.py:459:0\n",
      "  %/MaxPool_output_0 : Float(1000, 10, 12, 12, strides=[1440, 144, 12, 1], requires_grad=1, device=cpu) = onnx::MaxPool[ceil_mode=0, kernel_shape=[2, 2], pads=[0, 0, 0, 0], strides=[2, 2], onnx_name=\"/MaxPool\"](%/conv1/Conv_output_0), scope: __main__.NetSimple:: # /usr/local/lib/python3.9/site-packages/torch/nn/functional.py:782:0\n",
      "  %/Relu_output_0 : Float(1000, 10, 12, 12, strides=[1440, 144, 12, 1], requires_grad=1, device=cpu) = onnx::Relu[onnx_name=\"/Relu\"](%/MaxPool_output_0), scope: __main__.NetSimple:: # /usr/local/lib/python3.9/site-packages/torch/nn/functional.py:1457:0\n",
      "  %/conv2/Conv_output_0 : Float(1000, 20, 8, 8, strides=[1280, 64, 8, 1], requires_grad=1, device=cpu) = onnx::Conv[dilations=[1, 1], group=1, kernel_shape=[5, 5], pads=[0, 0, 0, 0], strides=[1, 1], onnx_name=\"/conv2/Conv\"](%/Relu_output_0, %conv2.weight, %conv2.bias), scope: __main__.NetSimple::/torch.nn.modules.conv.Conv2d::conv2 # /usr/local/lib/python3.9/site-packages/torch/nn/modules/conv.py:459:0\n",
      "  %/MaxPool_1_output_0 : Float(1000, 20, 4, 4, strides=[320, 16, 4, 1], requires_grad=1, device=cpu) = onnx::MaxPool[ceil_mode=0, kernel_shape=[2, 2], pads=[0, 0, 0, 0], strides=[2, 2], onnx_name=\"/MaxPool_1\"](%/conv2/Conv_output_0), scope: __main__.NetSimple:: # /usr/local/lib/python3.9/site-packages/torch/nn/functional.py:782:0\n",
      "  %/Relu_1_output_0 : Float(1000, 20, 4, 4, strides=[320, 16, 4, 1], requires_grad=1, device=cpu) = onnx::Relu[onnx_name=\"/Relu_1\"](%/MaxPool_1_output_0), scope: __main__.NetSimple:: # /usr/local/lib/python3.9/site-packages/torch/nn/functional.py:1457:0\n",
      "  %/Constant_output_0 : Long(2, strides=[1], device=cpu) = onnx::Constant[value=  -1  320 [ CPULongType{2} ], onnx_name=\"/Constant\"](), scope: __main__.NetSimple:: # /var/folders/qk/st4v94_949n0_8cn5pjn22z00000gn/T/ipykernel_72925/1412990414.py:13:0\n",
      "  %/Reshape_output_0 : Float(1000, 320, strides=[320, 1], requires_grad=1, device=cpu) = onnx::Reshape[allowzero=0, onnx_name=\"/Reshape\"](%/Relu_1_output_0, %/Constant_output_0), scope: __main__.NetSimple:: # /var/folders/qk/st4v94_949n0_8cn5pjn22z00000gn/T/ipykernel_72925/1412990414.py:13:0\n",
      "  %/fc1/Gemm_output_0 : Float(1000, 50, strides=[50, 1], requires_grad=1, device=cpu) = onnx::Gemm[alpha=1., beta=1., transB=1, onnx_name=\"/fc1/Gemm\"](%/Reshape_output_0, %fc1.weight, %fc1.bias), scope: __main__.NetSimple::/torch.nn.modules.linear.Linear::fc1 # /usr/local/lib/python3.9/site-packages/torch/nn/modules/linear.py:114:0\n",
      "  %/Relu_2_output_0 : Float(1000, 50, strides=[50, 1], requires_grad=1, device=cpu) = onnx::Relu[onnx_name=\"/Relu_2\"](%/fc1/Gemm_output_0), scope: __main__.NetSimple:: # /usr/local/lib/python3.9/site-packages/torch/nn/functional.py:1457:0\n",
      "  %/fc2/Gemm_output_0 : Float(1000, 10, strides=[10, 1], requires_grad=1, device=cpu) = onnx::Gemm[alpha=1., beta=1., transB=1, onnx_name=\"/fc2/Gemm\"](%/Relu_2_output_0, %fc2.weight, %fc2.bias), scope: __main__.NetSimple::/torch.nn.modules.linear.Linear::fc2 # /usr/local/lib/python3.9/site-packages/torch/nn/modules/linear.py:114:0\n",
      "  %20 : Float(1000, 10, strides=[10, 1], requires_grad=1, device=cpu) = onnx::LogSoftmax[axis=1, onnx_name=\"/LogSoftmax\"](%/fc2/Gemm_output_0), scope: __main__.NetSimple:: # /usr/local/lib/python3.9/site-packages/torch/nn/functional.py:1932:0\n",
      "  return (%20)\n",
      "\n",
      "================ Diagnostic Run torch.onnx.export version 2.0.0 ================\n",
      "verbose: False, log level: Level.ERROR\n",
      "======================= 0 NONE 0 NOTE 0 WARNING 0 ERROR ========================\n",
      "\n"
     ]
    }
   ],
   "source": [
    "from torch.autograd import Variable\n",
    "\n",
    "torch_out = torch.onnx.export( networkSimple, example_data, \"MNIST.onnx\", export_params=True, verbose=True)"
   ]
  },
  {
   "cell_type": "code",
   "execution_count": 12,
   "metadata": {},
   "outputs": [],
   "source": [
    "onnx_model = onnx.load(\"MNIST.onnx\")\n",
    "onnx.checker.check_model(onnx_model)\n",
    "\n",
    "\n",
    "ort_session = onnxruntime.InferenceSession(\"MNIST.onnx\")\n"
   ]
  },
  {
   "cell_type": "code",
   "execution_count": 13,
   "metadata": {},
   "outputs": [
    {
     "data": {
      "image/png": "[encoded data removed]",
      "text/plain": [
       "<Figure size 640x480 with 6 Axes>"
      ]
     },
     "metadata": {},
     "output_type": "display_data"
    }
   ],
   "source": [
    "def to_numpy(tensor):\n",
    "    return tensor.detach().cpu().numpy() if tensor.requires_grad else tensor.cpu().numpy()\n",
    "\n",
    "\n",
    "\n",
    "\n",
    "ort_inputs = {ort_session.get_inputs()[0].name: to_numpy(example_data)}\n",
    "output = ort_session.run(None, ort_inputs)[0]\n",
    "\n",
    "\n",
    "fig = plt.figure()\n",
    "for i in range(6):\n",
    "    plt.subplot(2,3,i+1)\n",
    "    plt.tight_layout()\n",
    "    plt.imshow(example_data[i][0], cmap='gray', interpolation='none')\n",
    "    plt.title(\"Prediction: {}\".format(\n",
    "        np.argmax(output[i])))\n",
    "    plt.xticks([])\n",
    "    plt.yticks([])\n",
    "plt.show()\n"
   ]
  }
 ],
 "metadata": {
  "kernelspec": {
   "display_name": "Python 3",
   "language": "python",
   "name": "python3"
  },
  "language_info": {
   "codemirror_mode": {
    "name": "ipython",
    "version": 3
   },
   "file_extension": ".py",
   "mimetype": "text/x-python",
   "name": "python",
   "nbconvert_exporter": "python",
   "pygments_lexer": "ipython3",
   "version": "3.9.15"
  },
  "orig_nbformat": 4
 },
 "nbformat": 4,
 "nbformat_minor": 2
}
